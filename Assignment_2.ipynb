{
  "nbformat": 4,
  "nbformat_minor": 0,
  "metadata": {
    "colab": {
      "name": "Assignment_2.ipynb",
      "version": "0.3.2",
      "views": {},
      "default_view": {},
      "provenance": [],
      "collapsed_sections": []
    },
    "kernelspec": {
      "display_name": "Python 3",
      "language": "python",
      "name": "python3"
    }
  },
  "cells": [
    {
      "metadata": {
        "id": "QrwRM0ILlXy6",
        "colab_type": "text"
      },
      "cell_type": "markdown",
      "source": [
        "<h3>Q no 1:  Write a python program to find number of occurrences of given number in a list with out using built-in methods</h3>\n",
        "<h4>**1 generate a list of some random num which is repeated again and again</h4>\n",
        "<h4>**2 take user input any number</h4>\n",
        "<h4>**3 find the number of occurrences of that num in your list</h4>\n",
        "<h4>**4 print some message to user with that result</h4>"
      ]
    },
    {
      "metadata": {
        "id": "PNyMeTKmlXy8",
        "colab_type": "code",
        "colab": {
          "autoexec": {
            "startup": false,
            "wait_interval": 0
          },
          "base_uri": "https://localhost:8080/",
          "height": 52
        },
        "outputId": "0dabe26f-7322-4cec-8845-b0461ea1771e",
        "executionInfo": {
          "status": "ok",
          "timestamp": 1533156997600,
          "user_tz": 420,
          "elapsed": 9541,
          "user": {
            "displayName": "Gaming Zone",
            "photoUrl": "//lh5.googleusercontent.com/-8vwx-NABaFg/AAAAAAAAAAI/AAAAAAAAW6U/Gbp-okEAnWw/s50-c-k-no/photo.jpg",
            "userId": "106705712225206295412"
          }
        }
      },
      "cell_type": "code",
      "source": [
        "count=0\n",
        "Nums=[1,2,2,1,3,3,4,5,4,3]\n",
        "Occur_num=int(input(\"Enter any number:\"))\n",
        "for x in Nums:\n",
        "  if x==Occur_num:\n",
        "   count=count+1\n",
        "  else:\n",
        "   continue\n",
        "print(\"Your entered number has \"+str(count)+\" occurrences in a list\")\n",
        "  "
      ],
      "execution_count": 126,
      "outputs": [
        {
          "output_type": "stream",
          "text": [
            "Enter any number:3\n",
            "Your entered number has 3 occurrences in a list\n"
          ],
          "name": "stdout"
        }
      ]
    },
    {
      "metadata": {
        "id": "q6x9qUVylXzH",
        "colab_type": "text"
      },
      "cell_type": "markdown",
      "source": [
        "<h3>Q no 2:   [\"www.zframez.com\", \"www.wikipedia.org\", \"www.asp.net\", \"www.abcd.in\"]\n",
        "<br/>\n",
        "Write a python program to print website suffixes (com , org , net ,in) from this list\n",
        "</h3>"
      ]
    },
    {
      "metadata": {
        "id": "TjcsyF_klXzN",
        "colab_type": "code",
        "colab": {
          "autoexec": {
            "startup": false,
            "wait_interval": 0
          },
          "base_uri": "https://localhost:8080/",
          "height": 35
        },
        "outputId": "7e1e7363-059c-4b3f-d116-6694b17564cf",
        "executionInfo": {
          "status": "ok",
          "timestamp": 1533151470426,
          "user_tz": 420,
          "elapsed": 2940,
          "user": {
            "displayName": "Gaming Zone",
            "photoUrl": "//lh5.googleusercontent.com/-8vwx-NABaFg/AAAAAAAAAAI/AAAAAAAAW6U/Gbp-okEAnWw/s50-c-k-no/photo.jpg",
            "userId": "106705712225206295412"
          }
        }
      },
      "cell_type": "code",
      "source": [
        "index=0\n",
        "web=[\"www.zframez.com\", \"www.wikipedia.org\", \"www.asp.net\", \"www.abcd.in\"]\n",
        "for x in web:\n",
        "  if index<3:\n",
        "   Sliced_elem=x[-3:]\n",
        "   web.remove(x)\n",
        "   web.insert(index,Sliced_elem)\n",
        "   index=index+1\n",
        "  elif index==3:\n",
        "   Sliced_elem=x[-2:]\n",
        "   web.remove(x)\n",
        "   web.insert(index,Sliced_elem)\n",
        "  else :\n",
        "    break\n",
        "print(web)"
      ],
      "execution_count": 53,
      "outputs": [
        {
          "output_type": "stream",
          "text": [
            "['com', 'org', 'net', 'in']\n"
          ],
          "name": "stdout"
        }
      ]
    },
    {
      "metadata": {
        "id": "79KjzSO6N3fa",
        "colab_type": "code",
        "colab": {
          "autoexec": {
            "startup": false,
            "wait_interval": 0
          },
          "base_uri": "https://localhost:8080/",
          "height": 35
        },
        "outputId": "e5df4e56-f424-4547-f15b-6377b7249c3d",
        "executionInfo": {
          "status": "ok",
          "timestamp": 1533156677146,
          "user_tz": 420,
          "elapsed": 1350,
          "user": {
            "displayName": "Gaming Zone",
            "photoUrl": "//lh5.googleusercontent.com/-8vwx-NABaFg/AAAAAAAAAAI/AAAAAAAAW6U/Gbp-okEAnWw/s50-c-k-no/photo.jpg",
            "userId": "106705712225206295412"
          }
        }
      },
      "cell_type": "code",
      "source": [
        "#Another way to solve this Program\n",
        "web=[\"www.zframez.com\", \"www.wikipedia.org\", \"www.asp.net\", \"www.abcd.in\"]\n",
        "web_suffixes=[]\n",
        "for x in web:\n",
        " web_suffixes.append(x.split('.')[-1])\n",
        "web_suffixes"
      ],
      "execution_count": 124,
      "outputs": [
        {
          "output_type": "execute_result",
          "data": {
            "text/plain": [
              "['com', 'org', 'net', 'in']"
            ]
          },
          "metadata": {
            "tags": []
          },
          "execution_count": 124
        }
      ]
    },
    {
      "metadata": {
        "id": "5zC9-B8zlXzR",
        "colab_type": "text"
      },
      "cell_type": "markdown",
      "source": [
        "<h3> Q no 3 : Write a program which can compute the factorial of a given numbers.</h3>\n",
        "<br/>\n",
        "<br/>\n",
        "<h4>**1 first take user input any number</h4>\n",
        "<h4>**2 calculate factorial of that input and then print the result to user</h4>"
      ]
    },
    {
      "metadata": {
        "id": "1pZ2f_6ylXzT",
        "colab_type": "code",
        "colab": {
          "autoexec": {
            "startup": false,
            "wait_interval": 0
          },
          "base_uri": "https://localhost:8080/",
          "height": 52
        },
        "outputId": "e87ea9b9-cf11-40e5-fa6f-86777033617f",
        "executionInfo": {
          "status": "ok",
          "timestamp": 1533152453449,
          "user_tz": 420,
          "elapsed": 5290,
          "user": {
            "displayName": "Gaming Zone",
            "photoUrl": "//lh5.googleusercontent.com/-8vwx-NABaFg/AAAAAAAAAAI/AAAAAAAAW6U/Gbp-okEAnWw/s50-c-k-no/photo.jpg",
            "userId": "106705712225206295412"
          }
        }
      },
      "cell_type": "code",
      "source": [
        "Num=int(input(\"Enter any number:\"))\n",
        "facto=1\n",
        "rep_num=0\n",
        "for x in range(0,Num):\n",
        " rep_num=rep_num+1\n",
        " facto=facto*rep_num\n",
        "facto"
      ],
      "execution_count": 68,
      "outputs": [
        {
          "output_type": "stream",
          "text": [
            "Enter any number:7\n"
          ],
          "name": "stdout"
        },
        {
          "output_type": "execute_result",
          "data": {
            "text/plain": [
              "5040"
            ]
          },
          "metadata": {
            "tags": []
          },
          "execution_count": 68
        }
      ]
    },
    {
      "metadata": {
        "id": "vf6JD64ClXzk",
        "colab_type": "text"
      },
      "cell_type": "markdown",
      "source": [
        "<h3>Q 4 (a) :  If you could invite anyone, living or deceased, to dinner, who\n",
        "would you invite? Make a list that includes at least three people you’d like to\n",
        "invite to dinner. Then use your list to print a message to each person, inviting\n",
        "them to dinner.</h3>"
      ]
    },
    {
      "metadata": {
        "id": "x4YqlYB-lXzl",
        "colab_type": "code",
        "colab": {
          "autoexec": {
            "startup": false,
            "wait_interval": 0
          },
          "base_uri": "https://localhost:8080/",
          "height": 35
        },
        "outputId": "c287a18a-c57b-4f66-ab8d-9950e697a928",
        "executionInfo": {
          "status": "ok",
          "timestamp": 1533153984071,
          "user_tz": 420,
          "elapsed": 1560,
          "user": {
            "displayName": "Gaming Zone",
            "photoUrl": "//lh5.googleusercontent.com/-8vwx-NABaFg/AAAAAAAAAAI/AAAAAAAAW6U/Gbp-okEAnWw/s50-c-k-no/photo.jpg",
            "userId": "106705712225206295412"
          }
        }
      },
      "cell_type": "code",
      "source": [
        "invite_list=[\"Mariam\",\"Sumiyya\",\"Saima\"]\n",
        "invite_list"
      ],
      "execution_count": 81,
      "outputs": [
        {
          "output_type": "execute_result",
          "data": {
            "text/plain": [
              "['Mariam', 'Sumiyya', 'Saima']"
            ]
          },
          "metadata": {
            "tags": []
          },
          "execution_count": 81
        }
      ]
    },
    {
      "metadata": {
        "id": "EpTK8ShRlXzq",
        "colab_type": "code",
        "colab": {
          "autoexec": {
            "startup": false,
            "wait_interval": 0
          },
          "base_uri": "https://localhost:8080/",
          "height": 69
        },
        "outputId": "0efdb1b6-7d8c-4dad-d4f9-797002f7ab3e",
        "executionInfo": {
          "status": "ok",
          "timestamp": 1533153988335,
          "user_tz": 420,
          "elapsed": 1233,
          "user": {
            "displayName": "Gaming Zone",
            "photoUrl": "//lh5.googleusercontent.com/-8vwx-NABaFg/AAAAAAAAAAI/AAAAAAAAW6U/Gbp-okEAnWw/s50-c-k-no/photo.jpg",
            "userId": "106705712225206295412"
          }
        }
      },
      "cell_type": "code",
      "source": [
        "for x in invite_list:\n",
        " print(\"Dear \"+str(x)+\" Assalamualikum You have invited to a birhday party which held at 9 augaust.\")\n",
        "  "
      ],
      "execution_count": 82,
      "outputs": [
        {
          "output_type": "stream",
          "text": [
            "Dear Mariam Assalamualikum You have invited to a birhday party which held at 9 augaust.\n",
            "Dear Sumiyya Assalamualikum You have invited to a birhday party which held at 9 augaust.\n",
            "Dear Saima Assalamualikum You have invited to a birhday party which held at 9 augaust.\n"
          ],
          "name": "stdout"
        }
      ]
    },
    {
      "metadata": {
        "id": "Bf5O4XRPlXzz",
        "colab_type": "text"
      },
      "cell_type": "markdown",
      "source": [
        "<h3>Q 4 (b) : You just heard that one of your guests can’t make the\n",
        "dinner, so you need to send out a new set of invitations. You’ll have to think of\n",
        "someone else to invite.<br/></br><br/>\n",
        "•\t Start with your program from Q 4 (a). Add a print statement at the\n",
        "end of your program stating the name of the guest who can’t make it.<br/></br><br/>\n",
        "•\t Modify your list, replacing the name of the guest who can’t make it with\n",
        "the name of the new person you are inviting.<br/></br><br/>\n",
        "•\t Print a second set of invitation messages, one for each person who is still\n",
        "in your list.<br/></br><br/></h3>"
      ]
    },
    {
      "metadata": {
        "id": "yoPUtQvSlXz0",
        "colab_type": "code",
        "colab": {
          "autoexec": {
            "startup": false,
            "wait_interval": 0
          },
          "base_uri": "https://localhost:8080/",
          "height": 69
        },
        "outputId": "e2801a57-0e2e-43d6-b93f-87d9a8620ad5",
        "executionInfo": {
          "status": "ok",
          "timestamp": 1533153994901,
          "user_tz": 420,
          "elapsed": 1227,
          "user": {
            "displayName": "Gaming Zone",
            "photoUrl": "//lh5.googleusercontent.com/-8vwx-NABaFg/AAAAAAAAAAI/AAAAAAAAW6U/Gbp-okEAnWw/s50-c-k-no/photo.jpg",
            "userId": "106705712225206295412"
          }
        }
      },
      "cell_type": "code",
      "source": [
        "for x in invite_list:\n",
        "  if x==\"Saima\":\n",
        "   rep_name=invite_list.index(x)\n",
        "   invite_list.remove(x)\n",
        "   invite_list.insert(rep_name,\"jany\")\n",
        "  print(\"Dear \"+str(x)+\" Assalamualikum You have invited to a birthday party which held at 9 Augaust.\")\n",
        "  "
      ],
      "execution_count": 83,
      "outputs": [
        {
          "output_type": "stream",
          "text": [
            "Dear Mariam Assalamualikum You have invited to a birthday party which held at 9 Augaust.\n",
            "Dear Sumiyya Assalamualikum You have invited to a birthday party which held at 9 Augaust.\n",
            "Dear Saima Assalamualikum You have invited to a birthday party which held at 9 Augaust.\n"
          ],
          "name": "stdout"
        }
      ]
    },
    {
      "metadata": {
        "id": "S0cWt3LLlX0G",
        "colab_type": "text"
      },
      "cell_type": "markdown",
      "source": [
        "<h3>Q 4 (c) : You just found a bigger dinner table, so now more space is\n",
        "available. Think of three more guests to invite to dinner.<br/></br><br/>\n",
        "•\t Start with your program from Q 4 (a) and (b) Add a print\n",
        "statement to the end of your program informing people that you found a\n",
        "bigger dinner table.<br/></br><br/>\n",
        "•\t Use insert() to add one new guest to the beginning of your list.<br/></br><br/>\n",
        "•\t Use insert() to add one new guest to the middle of your list.<br/></br><br/>\n",
        "•\t Use append() to add one new guest to the end of your list.<br/></br><br/>\n",
        "•\t Print a new set of invitation messages, one for each person in your list.<br/></br><br/></h3>"
      ]
    },
    {
      "metadata": {
        "id": "YrjXXZaLlX0P",
        "colab_type": "code",
        "colab": {
          "autoexec": {
            "startup": false,
            "wait_interval": 0
          },
          "base_uri": "https://localhost:8080/",
          "height": 35
        },
        "outputId": "5af1cb7f-2001-47b5-a0db-efdc42299924",
        "executionInfo": {
          "status": "ok",
          "timestamp": 1533154039604,
          "user_tz": 420,
          "elapsed": 2600,
          "user": {
            "displayName": "Gaming Zone",
            "photoUrl": "//lh5.googleusercontent.com/-8vwx-NABaFg/AAAAAAAAAAI/AAAAAAAAW6U/Gbp-okEAnWw/s50-c-k-no/photo.jpg",
            "userId": "106705712225206295412"
          }
        }
      },
      "cell_type": "code",
      "source": [
        "invite_list.insert(0,\"Aliya\")\n",
        "invite_list"
      ],
      "execution_count": 85,
      "outputs": [
        {
          "output_type": "execute_result",
          "data": {
            "text/plain": [
              "['Aliya', 'Mariam', 'Sumiyya', 'jany']"
            ]
          },
          "metadata": {
            "tags": []
          },
          "execution_count": 85
        }
      ]
    },
    {
      "metadata": {
        "id": "QwCM-NxmlX0V",
        "colab_type": "code",
        "colab": {
          "autoexec": {
            "startup": false,
            "wait_interval": 0
          },
          "base_uri": "https://localhost:8080/",
          "height": 35
        },
        "outputId": "8abe5cb4-ec7e-4559-d305-3f658423ed69",
        "executionInfo": {
          "status": "ok",
          "timestamp": 1533154147773,
          "user_tz": 420,
          "elapsed": 1328,
          "user": {
            "displayName": "Gaming Zone",
            "photoUrl": "//lh5.googleusercontent.com/-8vwx-NABaFg/AAAAAAAAAAI/AAAAAAAAW6U/Gbp-okEAnWw/s50-c-k-no/photo.jpg",
            "userId": "106705712225206295412"
          }
        }
      },
      "cell_type": "code",
      "source": [
        "invite_list.insert(2,\"Ateeqa\")\n",
        "invite_list"
      ],
      "execution_count": 88,
      "outputs": [
        {
          "output_type": "execute_result",
          "data": {
            "text/plain": [
              "['Aliya', 'Mariam', 'Ateeqa', 'Sumiyya', 'jany']"
            ]
          },
          "metadata": {
            "tags": []
          },
          "execution_count": 88
        }
      ]
    },
    {
      "metadata": {
        "id": "gyyNlAi0lX0h",
        "colab_type": "code",
        "colab": {
          "autoexec": {
            "startup": false,
            "wait_interval": 0
          },
          "base_uri": "https://localhost:8080/",
          "height": 35
        },
        "outputId": "aa4e0987-a6ad-4482-d2ef-8aecb7e28890",
        "executionInfo": {
          "status": "ok",
          "timestamp": 1533154182587,
          "user_tz": 420,
          "elapsed": 2155,
          "user": {
            "displayName": "Gaming Zone",
            "photoUrl": "//lh5.googleusercontent.com/-8vwx-NABaFg/AAAAAAAAAAI/AAAAAAAAW6U/Gbp-okEAnWw/s50-c-k-no/photo.jpg",
            "userId": "106705712225206295412"
          }
        }
      },
      "cell_type": "code",
      "source": [
        "invite_list.append(\"Emaan\")\n",
        "invite_list"
      ],
      "execution_count": 89,
      "outputs": [
        {
          "output_type": "execute_result",
          "data": {
            "text/plain": [
              "['Aliya', 'Mariam', 'Ateeqa', 'Sumiyya', 'jany', 'Emaan']"
            ]
          },
          "metadata": {
            "tags": []
          },
          "execution_count": 89
        }
      ]
    },
    {
      "metadata": {
        "id": "ddNpfq4sHNkS",
        "colab_type": "code",
        "colab": {
          "autoexec": {
            "startup": false,
            "wait_interval": 0
          },
          "base_uri": "https://localhost:8080/",
          "height": 121
        },
        "outputId": "7b0108cc-29b4-4647-88dd-3ae84c3e0ff8",
        "executionInfo": {
          "status": "ok",
          "timestamp": 1533154262240,
          "user_tz": 420,
          "elapsed": 2350,
          "user": {
            "displayName": "Gaming Zone",
            "photoUrl": "//lh5.googleusercontent.com/-8vwx-NABaFg/AAAAAAAAAAI/AAAAAAAAW6U/Gbp-okEAnWw/s50-c-k-no/photo.jpg",
            "userId": "106705712225206295412"
          }
        }
      },
      "cell_type": "code",
      "source": [
        "for x in invite_list:\n",
        " print(\"Dear \"+str(x)+\" Assalamualikum You have invited to a birhday party which held at 9 Augaust.\")\n",
        "  "
      ],
      "execution_count": 90,
      "outputs": [
        {
          "output_type": "stream",
          "text": [
            "Dear Aliya Assalamualikum You have invited to a birhday party which held at 9 Augaust.\n",
            "Dear Mariam Assalamualikum You have invited to a birhday party which held at 9 Augaust.\n",
            "Dear Ateeqa Assalamualikum You have invited to a birhday party which held at 9 Augaust.\n",
            "Dear Sumiyya Assalamualikum You have invited to a birhday party which held at 9 Augaust.\n",
            "Dear jany Assalamualikum You have invited to a birhday party which held at 9 Augaust.\n",
            "Dear Emaan Assalamualikum You have invited to a birhday party which held at 9 Augaust.\n"
          ],
          "name": "stdout"
        }
      ]
    },
    {
      "metadata": {
        "id": "yfGjz8VQlX0l",
        "colab_type": "text"
      },
      "cell_type": "markdown",
      "source": [
        "<h5> Q 5 : Here you have some data in variable below, your task is to make a list of specific word Surah then print the list and length of list</h5>\n"
      ]
    },
    {
      "metadata": {
        "id": "Wmd0wo7tlX0n",
        "colab_type": "code",
        "colab": {
          "autoexec": {
            "startup": false,
            "wait_interval": 0
          }
        }
      },
      "cell_type": "code",
      "source": [
        "data = \"Sura I Who believe in the Unseen, Sura Are steadfast in prayer, And spend Sura out of what We Have provided for them;\"\n",
        "New_list=data.split()"
      ],
      "execution_count": 0,
      "outputs": []
    },
    {
      "metadata": {
        "id": "txoW1T8ulX0s",
        "colab_type": "code",
        "colab": {
          "autoexec": {
            "startup": false,
            "wait_interval": 0
          },
          "base_uri": "https://localhost:8080/",
          "height": 52
        },
        "outputId": "9762824e-5f24-4336-892e-232dd0480c0b",
        "executionInfo": {
          "status": "ok",
          "timestamp": 1533156713248,
          "user_tz": 420,
          "elapsed": 1465,
          "user": {
            "displayName": "Gaming Zone",
            "photoUrl": "//lh5.googleusercontent.com/-8vwx-NABaFg/AAAAAAAAAAI/AAAAAAAAW6U/Gbp-okEAnWw/s50-c-k-no/photo.jpg",
            "userId": "106705712225206295412"
          }
        }
      },
      "cell_type": "code",
      "source": [
        "New2=New_list[:]\n",
        "#To copy element in new list\n",
        "for x in New2:\n",
        "  if x=='Sura':\n",
        "   continue\n",
        "  else:\n",
        "   New_list.remove(x)\n",
        "   continue\n",
        "print(len(New_list))\n",
        "New_list"
      ],
      "execution_count": 125,
      "outputs": [
        {
          "output_type": "stream",
          "text": [
            "3\n"
          ],
          "name": "stdout"
        },
        {
          "output_type": "execute_result",
          "data": {
            "text/plain": [
              "['Sura', 'Sura', 'Sura']"
            ]
          },
          "metadata": {
            "tags": []
          },
          "execution_count": 125
        }
      ]
    },
    {
      "metadata": {
        "id": "k-SO7rEjJmD2",
        "colab_type": "code",
        "colab": {
          "autoexec": {
            "startup": false,
            "wait_interval": 0
          }
        }
      },
      "cell_type": "code",
      "source": [
        ""
      ],
      "execution_count": 0,
      "outputs": []
    }
  ]
}