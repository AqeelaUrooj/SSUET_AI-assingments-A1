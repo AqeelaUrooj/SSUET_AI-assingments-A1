{
  "nbformat": 4,
  "nbformat_minor": 0,
  "metadata": {
    "colab": {
      "name": "Assignment4.ipynb",
      "version": "0.3.2",
      "provenance": [],
      "collapsed_sections": []
    },
    "kernelspec": {
      "display_name": "Python 3",
      "language": "python",
      "name": "python3"
    }
  },
  "cells": [
    {
      "metadata": {
        "id": "a6rT2acmK6MA",
        "colab_type": "code",
        "colab": {
          "base_uri": "https://localhost:8080/",
          "height": 170
        },
        "outputId": "8e0a4746-03c6-49ff-dff0-32a2e8ce6583"
      },
      "cell_type": "code",
      "source": [
        "# %load assignment4_list.py\n",
        "# Additional basic list exercises\n",
        "\n",
        "# D. Given a list of numbers, return a list where\n",
        "# all adjacent == elements have been reduced to a single element,\n",
        "# so [1, 2, 2, 3] returns [1, 2, 3]. You may create a new list or\n",
        "# modify the passed in list.\n",
        "def remove_adjacent(nums):\n",
        "  a= set(nums)\n",
        "  result=list(a)\n",
        "  return result\n",
        "\n",
        "\n",
        "# E. Given two lists sorted in increasing order, create and return a merged\n",
        "# list of all the elements in sorted order. You may modify the passed in lists.\n",
        "# Ideally, the solution should work in \"linear\" time, making a single\n",
        "# pass of both lists.\n",
        "def linear_merge(list1, list2):\n",
        "  for x in list2:\n",
        "    list1.append(x)\n",
        "  list1.sort()\n",
        "  return list1\n",
        "\n",
        "# Note: the solution above is kind of cute, but unforunately list.pop(0)\n",
        "# is not constant time with the standard python list implementation, so\n",
        "# the above is not strictly linear time.\n",
        "# An alternate approach uses pop(-1) to remove the endmost elements\n",
        "# from each list, building a solution list which is backwards.\n",
        "# Then use reversed() to put the result back in the correct order. That\n",
        "# solution works in linear time, but is more ugly.\n",
        "\n",
        "\n",
        "# Simple provided test() function used in main() to print\n",
        "# what each function returns vs. what it's supposed to return.\n",
        "def test(got, expected):\n",
        "    if got == expected:\n",
        "        prefix = ' OK '\n",
        "    else:\n",
        "        prefix = '  X '\n",
        "    print ('%s got: %s expected: %s' % (prefix, repr(got), repr(expected)))\n",
        "\n",
        "\n",
        "# Calls the above functions with interesting inputs.\n",
        "def main():\n",
        "    print ('remove_adjacent')\n",
        "    test(remove_adjacent([1, 2, 2, 3]), [1, 2, 3])\n",
        "    test(remove_adjacent([2, 2, 3, 3, 3]), [2, 3])\n",
        "    test(remove_adjacent([]), [])\n",
        "\n",
        "    print()\n",
        "    print ('linear_merge')\n",
        "    test(linear_merge(['aa', 'xx', 'zz'], ['bb', 'cc']),\n",
        "       ['aa', 'bb', 'cc', 'xx', 'zz'])\n",
        "    test(linear_merge(['aa', 'xx'], ['bb', 'cc', 'zz']),\n",
        "       ['aa', 'bb', 'cc', 'xx', 'zz'])\n",
        "    test(linear_merge(['aa', 'aa'], ['aa', 'bb', 'bb']),\n",
        "       ['aa', 'aa', 'aa', 'bb', 'bb'])\n",
        "\n",
        "\n",
        "if __name__ == '__main__':\n",
        "  main()\n"
      ],
      "execution_count": 1,
      "outputs": [
        {
          "output_type": "stream",
          "text": [
            "remove_adjacent\n",
            " OK  got: [1, 2, 3] expected: [1, 2, 3]\n",
            " OK  got: [2, 3] expected: [2, 3]\n",
            " OK  got: [] expected: []\n",
            "\n",
            "linear_merge\n",
            " OK  got: ['aa', 'bb', 'cc', 'xx', 'zz'] expected: ['aa', 'bb', 'cc', 'xx', 'zz']\n",
            " OK  got: ['aa', 'bb', 'cc', 'xx', 'zz'] expected: ['aa', 'bb', 'cc', 'xx', 'zz']\n",
            " OK  got: ['aa', 'aa', 'aa', 'bb', 'bb'] expected: ['aa', 'aa', 'aa', 'bb', 'bb']\n"
          ],
          "name": "stdout"
        }
      ]
    },
    {
      "metadata": {
        "id": "TcRBPcT3K6MC",
        "colab_type": "code",
        "colab": {}
      },
      "cell_type": "code",
      "source": [
        ""
      ],
      "execution_count": 0,
      "outputs": []
    }
  ]
}