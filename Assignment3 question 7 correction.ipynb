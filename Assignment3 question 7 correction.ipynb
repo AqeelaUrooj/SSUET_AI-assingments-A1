{
 "cells": [
  {
   "cell_type": "code",
   "execution_count": 4,
   "metadata": {
    "scrolled": false
   },
   "outputs": [
    {
     "data": {
      "text/plain": [
       "['is',\n",
       " 'a',\n",
       " 'by',\n",
       " 'and',\n",
       " 'by',\n",
       " 'on',\n",
       " 'the',\n",
       " 'A',\n",
       " 'Way',\n",
       " 'by',\n",
       " 'The',\n",
       " 'Dev',\n",
       " 'and',\n",
       " 'and',\n",
       " 'the',\n",
       " 'of',\n",
       " 'how',\n",
       " '25',\n",
       " 'his',\n",
       " 'in',\n",
       " 'out',\n",
       " 'to',\n",
       " 'The',\n",
       " 'had',\n",
       " 'its',\n",
       " 'at',\n",
       " 'the',\n",
       " 'on',\n",
       " '10']"
      ]
     },
     "execution_count": 4,
     "metadata": {},
     "output_type": "execute_result"
    }
   ],
   "source": [
    "#Q no 7 :Find all of the words in a string that are less than 4 letters using list comprehension\n",
    "\n",
    "Text_S=\"Lion is a 2016 biographical drama film directed by Garth Davis and written by Luke Davies, based on the non-fiction book A Long Way Home by Saroo Brierley. The film stars Dev Patel, Sunny Pawar, Rooney Mara, David Wenham and Nicole Kidman, and tells the true story of how Brierley, 25 years after being separated from his family in Burhanpur, sets out to find them. The film, which had its world premiere at the Toronto International Film Festival on 10 September 2016\"\n",
    "\n",
    "Text2=Text_S.split()\n",
    "Letter_4=[x for x in Text2 if len(x)<4]\n",
    "Letter_4\n"
   ]
  },
  {
   "cell_type": "code",
   "execution_count": null,
   "metadata": {
    "collapsed": true
   },
   "outputs": [],
   "source": []
  },
  {
   "cell_type": "code",
   "execution_count": null,
   "metadata": {
    "collapsed": true
   },
   "outputs": [],
   "source": []
  },
  {
   "cell_type": "code",
   "execution_count": null,
   "metadata": {
    "collapsed": true
   },
   "outputs": [],
   "source": []
  },
  {
   "cell_type": "code",
   "execution_count": null,
   "metadata": {
    "collapsed": true
   },
   "outputs": [],
   "source": []
  },
  {
   "cell_type": "code",
   "execution_count": null,
   "metadata": {
    "collapsed": true
   },
   "outputs": [],
   "source": []
  }
 ],
 "metadata": {
  "kernelspec": {
   "display_name": "Python 3",
   "language": "python",
   "name": "python3"
  },
  "language_info": {
   "codemirror_mode": {
    "name": "ipython",
    "version": 3
   },
   "file_extension": ".py",
   "mimetype": "text/x-python",
   "name": "python",
   "nbconvert_exporter": "python",
   "pygments_lexer": "ipython3",
   "version": "3.6.2"
  }
 },
 "nbformat": 4,
 "nbformat_minor": 2
}
