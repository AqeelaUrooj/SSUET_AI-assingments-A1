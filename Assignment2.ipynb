{
  "nbformat": 4,
  "nbformat_minor": 0,
  "metadata": {
    "colab": {
      "name": "Assignment2.ipynb",
      "version": "0.3.2",
      "provenance": [],
      "collapsed_sections": []
    },
    "kernelspec": {
      "display_name": "Python 3",
      "language": "python",
      "name": "python3"
    }
  },
  "cells": [
    {
      "metadata": {
        "id": "M45QmcFJRLJp",
        "colab_type": "code",
        "colab": {}
      },
      "cell_type": "code",
      "source": [
        "# %load assignment2.py"
      ],
      "execution_count": 0,
      "outputs": []
    },
    {
      "metadata": {
        "id": "cnS3_NoVRLJ3",
        "colab_type": "code",
        "colab": {
          "base_uri": "https://localhost:8080/",
          "height": 272
        },
        "outputId": "cb80a8bf-8f2c-45ea-dc17-3e3b04023c00"
      },
      "cell_type": "code",
      "source": [
        "# D. verbing\n",
        "# Given a string, if its length is at least 3,\n",
        "# add 'ing' to its end.\n",
        "# Unless it already ends in 'ing', in which case\n",
        "# add 'ly' instead.\n",
        "# If the string length is less than 3, leave it unchanged.\n",
        "# Return the resulting string.\n",
        "def verbing(s):\n",
        "  if len(s)>=3:\n",
        "    if s[-3:]=='ing':\n",
        "      s=s[:-3]+'ingly'\n",
        "    else:\n",
        "      s=s+'ing'\n",
        "   \n",
        "  return s\n",
        "\n",
        "\n",
        "# E. not_bad\n",
        "# Given a string, find the first appearance of the\n",
        "# substring 'not' and 'bad'. If the 'bad' follows\n",
        "# the 'not', replace the whole 'not'...'bad' substring\n",
        "# with 'good'.\n",
        "# Return the resulting string.\n",
        "# So 'This dinner is not that bad!' yields:\n",
        "# This dinner is good!\n",
        "def not_bad(s):\n",
        "  s_len=len(s)\n",
        "  s_not=s.find('not')\n",
        "  s_bad=s.find('bad')\n",
        "  if s_not!=0  and (s_bad -s_not)>0 and s_bad!=0:\n",
        "    s=s[:s_not]+'good'+s[s_bad+3:]\n",
        "  return s\n",
        "\n",
        "\n",
        "# F. front_back\n",
        "# Consider dividing a string into two halves.\n",
        "# If the length is even, the front and back halves are the same length.\n",
        "# If the length is odd, we'll say that the extra char goes in the front half.\n",
        "# e.g. 'abcde', the front half is 'abc', the back half 'de'.\n",
        "# Given 2 strings, a and b, return a string of the form\n",
        "#  a-front + b-front + a-back + b-back\n",
        "def front_back(a, b):\n",
        "  l_a=len(a)\n",
        "  l_b=len(b)\n",
        "  if l_a%2==0 and l_b%2==0:\n",
        "    z=int(l_a/2)\n",
        "    y=int(l_b/2)  \n",
        "  elif l_a%2!=0 and l_b%2!=0:\n",
        "    z=round((l_a/2)+.5)\n",
        "    y=round((l_b/2)+.5)\n",
        "  elif l_a%2==0 and l_b%2!=0:\n",
        "    z=int(l_a/2)\n",
        "    y=round((l_b/2)+.5)\n",
        "  elif l_a%2!=0 and l_b%2==0:\n",
        "    z=round((l_a/2)+.5)\n",
        "    y=int(l_b/2) \n",
        "  s=a[:z]+b[:y]+a[z:]+b[y:]\n",
        "  return s\n",
        "\n",
        "\n",
        "# Simple provided test() function used in main() to print\n",
        "# what each function returns vs. what it's supposed to return.\n",
        "def test(got, expected):\n",
        "    if got == expected:\n",
        "        prefix = ' OK '\n",
        "    else:\n",
        "        prefix = '  X '\n",
        "    print ('%s got: %s expected: %s' % (prefix, repr(got), repr(expected)))\n",
        "    \n",
        "# main() calls the above functions with interesting inputs,\n",
        "# using the above test() to check if the result is correct or not.\n",
        "def main():\n",
        "    print ('verbing')\n",
        "    test(verbing('hail'), 'hailing')\n",
        "    test(verbing('swiming'), 'swimingly')\n",
        "    test(verbing('do'), 'do')\n",
        "\n",
        "    print()\n",
        "    print ('not_bad')\n",
        "    test(not_bad('This movie is not so bad'), 'This movie is good')\n",
        "    test(not_bad('This dinner is not that bad!'), 'This dinner is good!')\n",
        "    test(not_bad('This tea is not hot'), 'This tea is not hot')\n",
        "    test(not_bad(\"It's bad yet not\"), \"It's bad yet not\")\n",
        "\n",
        "    print()\n",
        "    print ('front_back')\n",
        "    test(front_back('abcd', 'xy'), 'abxcdy')\n",
        "    test(front_back('abcde', 'xyz'), 'abcxydez')\n",
        "    test(front_back('Kitten', 'Donut'), 'KitDontenut')\n",
        "\n",
        "if __name__ == '__main__':\n",
        "  main()\n"
      ],
      "execution_count": 8,
      "outputs": [
        {
          "output_type": "stream",
          "text": [
            "verbing\n",
            " OK  got: 'hailing' expected: 'hailing'\n",
            " OK  got: 'swimingly' expected: 'swimingly'\n",
            " OK  got: 'do' expected: 'do'\n",
            "\n",
            "not_bad\n",
            " OK  got: 'This movie is good' expected: 'This movie is good'\n",
            " OK  got: 'This dinner is good!' expected: 'This dinner is good!'\n",
            " OK  got: 'This tea is not hot' expected: 'This tea is not hot'\n",
            " OK  got: \"It's bad yet not\" expected: \"It's bad yet not\"\n",
            "\n",
            "front_back\n",
            " OK  got: 'abxcdy' expected: 'abxcdy'\n",
            " OK  got: 'abcxydez' expected: 'abcxydez'\n",
            " OK  got: 'KitDontenut' expected: 'KitDontenut'\n"
          ],
          "name": "stdout"
        }
      ]
    },
    {
      "metadata": {
        "id": "4kidRLNKRLJ3",
        "colab_type": "code",
        "colab": {}
      },
      "cell_type": "code",
      "source": [
        ""
      ],
      "execution_count": 0,
      "outputs": []
    }
  ]
}